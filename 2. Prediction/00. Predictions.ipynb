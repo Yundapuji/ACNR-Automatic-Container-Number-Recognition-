{
 "cells": [
  {
   "cell_type": "code",
   "execution_count": 18,
   "id": "267dec8c",
   "metadata": {},
   "outputs": [
    {
     "name": "stdout",
     "output_type": "stream",
     "text": [
      "Package                  Version\n",
      "------------------------ -----------\n",
      "anyio                    3.7.0\n",
      "argon2-cffi              21.3.0\n",
      "argon2-cffi-bindings     21.2.0\n",
      "arrow                    1.2.3\n",
      "asttokens                2.2.1\n",
      "attrs                    23.1.0\n",
      "backcall                 0.2.0\n",
      "beautifulsoup4           4.12.2\n",
      "bleach                   6.0.0\n",
      "certifi                  2023.5.7\n",
      "cffi                     1.15.1\n",
      "charset-normalizer       3.1.0\n",
      "colorama                 0.4.6\n",
      "comm                     0.1.3\n",
      "contourpy                1.0.7\n",
      "cycler                   0.11.0\n",
      "debugpy                  1.6.7\n",
      "decorator                5.1.1\n",
      "defusedxml               0.7.1\n",
      "easyocr                  1.7.0\n",
      "exceptiongroup           1.1.1\n",
      "executing                1.2.0\n",
      "fastjsonschema           2.17.1\n",
      "filelock                 3.12.2\n",
      "fonttools                4.39.4\n",
      "fqdn                     1.5.1\n",
      "idna                     3.4\n",
      "imageio                  2.31.1\n",
      "importlib-metadata       6.6.0\n",
      "importlib-resources      5.12.0\n",
      "ipykernel                6.23.1\n",
      "ipython                  8.12.2\n",
      "ipython-genutils         0.2.0\n",
      "ipywidgets               8.0.6\n",
      "isoduration              20.11.0\n",
      "jedi                     0.18.2\n",
      "Jinja2                   3.1.2\n",
      "jsonpointer              2.3\n",
      "jsonschema               4.17.3\n",
      "jupyter                  1.0.0\n",
      "jupyter_client           8.2.0\n",
      "jupyter-console          6.6.3\n",
      "jupyter_core             5.3.0\n",
      "jupyter-events           0.6.3\n",
      "jupyter_server           2.6.0\n",
      "jupyter_server_terminals 0.4.4\n",
      "jupyterlab-pygments      0.2.2\n",
      "jupyterlab-widgets       3.0.7\n",
      "kiwisolver               1.4.4\n",
      "labelImg                 1.8.6\n",
      "lazy_loader              0.2\n",
      "lxml                     4.9.2\n",
      "MarkupSafe               2.1.3\n",
      "matplotlib               3.7.1\n",
      "matplotlib-inline        0.1.6\n",
      "mistune                  2.0.5\n",
      "mpmath                   1.3.0\n",
      "nbclassic                1.0.0\n",
      "nbclient                 0.8.0\n",
      "nbconvert                7.4.0\n",
      "nbformat                 5.9.0\n",
      "nest-asyncio             1.5.6\n",
      "networkx                 3.1\n",
      "ninja                    1.11.1\n",
      "notebook                 6.5.4\n",
      "notebook_shim            0.2.3\n",
      "numpy                    1.24.3\n",
      "opencv-python            4.7.0.72\n",
      "opencv-python-headless   4.7.0.72\n",
      "overrides                7.3.1\n",
      "packaging                23.1\n",
      "pandas                   2.0.2\n",
      "pandocfilters            1.5.0\n",
      "parso                    0.8.3\n",
      "pickleshare              0.7.5\n",
      "Pillow                   9.5.0\n",
      "pip                      23.1.2\n",
      "pkgutil_resolve_name     1.3.10\n",
      "platformdirs             3.5.3\n",
      "prometheus-client        0.17.0\n",
      "prompt-toolkit           3.0.38\n",
      "psutil                   5.9.5\n",
      "pure-eval                0.2.2\n",
      "pyclipper                1.3.0.post4\n",
      "pycparser                2.21\n",
      "Pygments                 2.15.1\n",
      "pyparsing                3.0.9\n",
      "PyQt5                    5.15.9\n",
      "PyQt5-Qt5                5.15.2\n",
      "PyQt5-sip                12.12.1\n",
      "pyrsistent               0.19.3\n",
      "python-bidi              0.4.2\n",
      "python-dateutil          2.8.2\n",
      "python-json-logger       2.0.7\n",
      "pytz                     2023.3\n",
      "PyWavelets               1.4.1\n",
      "pywin32                  306\n",
      "pywinpty                 2.0.10\n",
      "PyYAML                   6.0\n",
      "pyzmq                    25.1.0\n",
      "qtconsole                5.4.3\n",
      "QtPy                     2.3.1\n",
      "requests                 2.31.0\n",
      "rfc3339-validator        0.1.4\n",
      "rfc3986-validator        0.1.1\n",
      "scikit-image             0.21.0\n",
      "scipy                    1.10.1\n",
      "Send2Trash               1.8.2\n",
      "setuptools               67.7.2\n",
      "shapely                  2.0.1\n",
      "six                      1.16.0\n",
      "sniffio                  1.3.0\n",
      "soupsieve                2.4.1\n",
      "stack-data               0.6.2\n",
      "sympy                    1.12\n",
      "terminado                0.17.1\n",
      "tifffile                 2023.4.12\n",
      "tinycss2                 1.2.1\n",
      "torch                    2.0.1\n",
      "torchvision              0.15.2\n",
      "tornado                  6.3.2\n",
      "traitlets                5.9.0\n",
      "typing_extensions        4.6.3\n",
      "tzdata                   2023.3\n",
      "uri-template             1.2.0\n",
      "urllib3                  2.0.3\n",
      "wcwidth                  0.2.6\n",
      "webcolors                1.13\n",
      "webencodings             0.5.1\n",
      "websocket-client         1.5.3\n",
      "wheel                    0.40.0\n",
      "widgetsnbextension       4.0.7\n",
      "zipp                     3.15.0\n"
     ]
    }
   ],
   "source": [
    "!pip list"
   ]
  },
  {
   "cell_type": "code",
   "execution_count": 7,
   "id": "aaa7c4e0",
   "metadata": {},
   "outputs": [],
   "source": [
    "import sys\n",
    "\n",
    "sys.path.append('/aplikasi.data/acnr/acnr_yg2/acnryg2/lib/site-packages')"
   ]
  },
  {
   "cell_type": "code",
   "execution_count": 9,
   "id": "55dcca9d",
   "metadata": {},
   "outputs": [
    {
     "name": "stdout",
     "output_type": "stream",
     "text": [
      "Collecting opencv-python-headless\n",
      "  Using cached opencv_python_headless-4.7.0.72-cp37-abi3-win_amd64.whl (38.1 MB)\n",
      "Requirement already satisfied: numpy>=1.17.0 in d:\\aplikasi.data\\acnr\\acnr_yg2\\acnryg2\\lib\\site-packages (from opencv-python-headless) (1.24.3)\n",
      "Installing collected packages: opencv-python-headless\n",
      "Successfully installed opencv-python-headless-4.7.0.72\n"
     ]
    }
   ],
   "source": [
    "!pip install opencv-python-headless"
   ]
  },
  {
   "cell_type": "code",
   "execution_count": 29,
   "id": "8599be23",
   "metadata": {},
   "outputs": [],
   "source": [
    "import cv2\n",
    "import easyocr\n",
    "from TestYoloModel import yolo_pred"
   ]
  },
  {
   "cell_type": "code",
   "execution_count": 30,
   "id": "0a4a0757",
   "metadata": {},
   "outputs": [],
   "source": [
    "yolo = yolo_pred('./Model/weights/best.onnx','Data.yaml')"
   ]
  },
  {
   "cell_type": "code",
   "execution_count": 32,
   "id": "98ca58d4",
   "metadata": {},
   "outputs": [],
   "source": [
    "img = cv2.imread('./TestModel/T (14).png')\n",
    "\n",
    "cv2.imshow('img',img)\n",
    "cv2.waitKey(0)\n",
    "cv2.destroyAllWindows()"
   ]
  },
  {
   "cell_type": "markdown",
   "id": "81219e9a",
   "metadata": {},
   "source": [
    "### Predictions (Gambar)"
   ]
  },
  {
   "cell_type": "code",
   "execution_count": 33,
   "id": "30b05f81",
   "metadata": {},
   "outputs": [
    {
     "name": "stderr",
     "output_type": "stream",
     "text": [
      "Neither CUDA nor MPS are available - defaulting to CPU. Note: This module is much faster with a GPU.\n"
     ]
    }
   ],
   "source": [
    "img_pred = yolo.predictions(img)"
   ]
  },
  {
   "cell_type": "code",
   "execution_count": 34,
   "id": "9bfb70ae",
   "metadata": {},
   "outputs": [],
   "source": [
    "cv2.imshow('Prediction Image',img_pred)\n",
    "cv2.waitKey(0)\n",
    "cv2.destroyAllWindows()"
   ]
  },
  {
   "cell_type": "markdown",
   "id": "eab432a8",
   "metadata": {},
   "source": [
    "### Predictions (Video)"
   ]
  },
  {
   "cell_type": "code",
   "execution_count": 35,
   "id": "149c2501",
   "metadata": {},
   "outputs": [],
   "source": [
    "cap = cv2.VideoCapture('./TestModel/8J10GI2_1Menit.mp4')\n",
    "\n",
    "while True:\n",
    "    ret, frame = cap.read()\n",
    "    if ret == False:\n",
    "        print('Video gagal ditampilkan...')\n",
    "        break\n",
    "    \n",
    "    pred_image = yolo.predictions(frame)\n",
    "    \n",
    "    cv2.imshow('Prediction Video',pred_image)\n",
    "    if cv2.waitKey(1) == 27: #esc untuk keluar\n",
    "        break\n",
    "    \n",
    "cv2.destroyAllWindows()\n",
    "cap.release()"
   ]
  },
  {
   "cell_type": "markdown",
   "id": "cc827664",
   "metadata": {},
   "source": [
    "### Predictions (Real Time)"
   ]
  },
  {
   "cell_type": "code",
   "execution_count": 28,
   "id": "3afde8f4",
   "metadata": {},
   "outputs": [
    {
     "name": "stderr",
     "output_type": "stream",
     "text": [
      "Neither CUDA nor MPS are available - defaulting to CPU. Note: This module is much faster with a GPU.\n",
      "Neither CUDA nor MPS are available - defaulting to CPU. Note: This module is much faster with a GPU.\n",
      "Neither CUDA nor MPS are available - defaulting to CPU. Note: This module is much faster with a GPU.\n",
      "Neither CUDA nor MPS are available - defaulting to CPU. Note: This module is much faster with a GPU.\n"
     ]
    }
   ],
   "source": [
    "# Membuka video stream\n",
    "cap = cv2.VideoCapture(0)\n",
    "\n",
    "while True:\n",
    "    # Membaca frame dari video stream\n",
    "    ret, frame = cap.read()\n",
    "    if not ret:\n",
    "        break\n",
    "\n",
    "    # Melakukan prediksi pada frame\n",
    "    frame_pred = yolo.predictions(frame)\n",
    "\n",
    "    # Menampilkan frame hasil prediksi\n",
    "    cv2.imshow('Object Detection', frame_pred)\n",
    "\n",
    "    # Tombol 'q' untuk keluar dari loop\n",
    "    if cv2.waitKey(1) & 0xFF == ord('q'):\n",
    "        break\n",
    "\n",
    "# Melepaskan resource video stream\n",
    "cap.release()\n",
    "\n",
    "# Menutup semua jendela yang terbuka\n",
    "cv2.destroyAllWindows()"
   ]
  },
  {
   "cell_type": "code",
   "execution_count": null,
   "id": "1b4bec01",
   "metadata": {},
   "outputs": [],
   "source": []
  }
 ],
 "metadata": {
  "kernelspec": {
   "display_name": "acnrYG2",
   "language": "python",
   "name": "acnryg2"
  },
  "language_info": {
   "codemirror_mode": {
    "name": "ipython",
    "version": 3
   },
   "file_extension": ".py",
   "mimetype": "text/x-python",
   "name": "python",
   "nbconvert_exporter": "python",
   "pygments_lexer": "ipython3",
   "version": "3.8.10"
  }
 },
 "nbformat": 4,
 "nbformat_minor": 5
}
