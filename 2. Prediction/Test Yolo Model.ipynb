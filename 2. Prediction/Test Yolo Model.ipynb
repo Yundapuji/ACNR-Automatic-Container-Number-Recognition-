{
 "cells": [
  {
   "cell_type": "markdown",
   "id": "1d88c370",
   "metadata": {},
   "source": [
    "### Coba\n",
    "1. Upgrade OpenCV\n",
    "2. Downgrade Python\n",
    "3. Upgrade Python"
   ]
  },
  {
   "cell_type": "code",
   "execution_count": 1,
   "id": "dd512770",
   "metadata": {},
   "outputs": [],
   "source": [
    "#pip install --upgrade opencv-python"
   ]
  },
  {
   "cell_type": "code",
   "execution_count": 5,
   "id": "c62ec0ff",
   "metadata": {},
   "outputs": [],
   "source": [
    "#Import Library\n",
    "import cv2\n",
    "import numpy as np\n",
    "import os\n",
    "import yaml\n",
    "from yaml.loader import SafeLoader"
   ]
  },
  {
   "cell_type": "markdown",
   "id": "f1e05141",
   "metadata": {},
   "source": [
    "### Load Yaml"
   ]
  },
  {
   "cell_type": "code",
   "execution_count": 6,
   "id": "4d3998bf",
   "metadata": {},
   "outputs": [
    {
     "name": "stdout",
     "output_type": "stream",
     "text": [
      "['container-number']\n"
     ]
    }
   ],
   "source": [
    "with open('Data.yaml',mode = 'r') as f:\n",
    "    data_yaml = yaml.load(f,Loader = SafeLoader)\n",
    "\n",
    "labels = data_yaml['names']\n",
    "print(labels)"
   ]
  },
  {
   "cell_type": "markdown",
   "id": "b9d133d9",
   "metadata": {},
   "source": [
    "### Load YOLO Model"
   ]
  },
  {
   "cell_type": "code",
   "execution_count": 7,
   "id": "538876d8",
   "metadata": {},
   "outputs": [],
   "source": [
    "yolo = cv2.dnn.readNetFromONNX('./Model/weights/best.onnx')\n",
    "yolo.setPreferableBackend(cv2.dnn.DNN_BACKEND_OPENCV)\n",
    "yolo.setPreferableTarget(cv2.dnn.DNN_TARGET_CPU)"
   ]
  },
  {
   "cell_type": "markdown",
   "id": "173e761b",
   "metadata": {},
   "source": [
    "#Keterangan Error\n",
    "ERROR during processing node with 2 inputs and 3 outputs: \n",
    "        [Split]:(onnx_node!/model.24/Split) from domain='ai.onnx'"
   ]
  },
  {
   "cell_type": "markdown",
   "id": "beac9f0b",
   "metadata": {},
   "source": [
    "### Load Gambar Test Akhir"
   ]
  },
  {
   "cell_type": "code",
   "execution_count": 42,
   "id": "4cb2f048",
   "metadata": {},
   "outputs": [],
   "source": [
    "img = cv2.imread('./T (11).jpg')\n",
    "image = img.copy()\n",
    "row, col, d = image.shape"
   ]
  },
  {
   "cell_type": "markdown",
   "id": "62efd69d",
   "metadata": {},
   "source": [
    "### Menerapkan YOLO Prediction Dari Gambar Test Akhir"
   ]
  },
  {
   "cell_type": "code",
   "execution_count": 43,
   "id": "21ec7271",
   "metadata": {},
   "outputs": [],
   "source": [
    "#----1. Convert gambar ke square matriks\n",
    "max_rc = max(row,col)\n",
    "input_image = np.zeros((max_rc,max_rc,3),dtype=np.uint8)\n",
    "input_image[0:row, 0:col] = image\n",
    "\n",
    "#----2. Mendapatkan prediksi dari square array/square matriks\n",
    "INPUT_WH_YOLO = 640\n",
    "blob = cv2.dnn.blobFromImage(input_image,1/255,(INPUT_WH_YOLO,INPUT_WH_YOLO),swapRB = True, crop = False)\n",
    "yolo.setInput(blob)\n",
    "preds = yolo.forward() #Deteksi/Prediksi dari YOLO"
   ]
  },
  {
   "cell_type": "code",
   "execution_count": 44,
   "id": "47304b4b",
   "metadata": {},
   "outputs": [
    {
     "name": "stdout",
     "output_type": "stream",
     "text": [
      "[[[8.23166275e+00 7.57426643e+00 1.53652237e+02 1.58997021e+01\n",
      "   6.06972833e-07 9.99876618e-01]\n",
      "  [1.70632267e+01 6.15354538e+00 1.03133904e+02 9.54354477e+00\n",
      "   4.02473773e-07 9.99923468e-01]\n",
      "  [2.63401623e+01 6.97766018e+00 7.41229401e+01 8.12462997e+00\n",
      "   2.81796900e-07 9.99950886e-01]\n",
      "  ...\n",
      "  [5.56898621e+02 6.26341492e+02 1.72780670e+02 4.54231606e+01\n",
      "   3.70157227e-06 9.99980211e-01]\n",
      "  [5.94416443e+02 6.26758850e+02 1.43342041e+02 4.73014793e+01\n",
      "   2.48572815e-06 9.99975085e-01]\n",
      "  [6.16464478e+02 6.25793884e+02 1.07025696e+02 4.15984688e+01\n",
      "   3.55326875e-07 9.99979734e-01]]]\n"
     ]
    }
   ],
   "source": [
    "print(preds)"
   ]
  },
  {
   "cell_type": "code",
   "execution_count": 45,
   "id": "8887fc29",
   "metadata": {},
   "outputs": [
    {
     "name": "stdout",
     "output_type": "stream",
     "text": [
      "(1, 25200, 6)\n"
     ]
    }
   ],
   "source": [
    "print(preds.shape)"
   ]
  },
  {
   "cell_type": "markdown",
   "id": "615f033f",
   "metadata": {},
   "source": [
    "### Non Maximum Supression"
   ]
  },
  {
   "cell_type": "code",
   "execution_count": 46,
   "id": "ea8ac744",
   "metadata": {},
   "outputs": [],
   "source": [
    "#----1. Filter deteksi berdasarkan nilai confidence (0.4) dan probability score (0.25)\n",
    "detections = preds[0]\n",
    "boxes = []\n",
    "confidences = []\n",
    "classes = []\n",
    "\n",
    "#Width dan height dari gambar (input_image)\n",
    "image_w, image_h = input_image.shape[:2]\n",
    "x_factor = image_w/INPUT_WH_YOLO\n",
    "y_factor = image_h/INPUT_WH_YOLO\n",
    "\n",
    "for i in range(len(detections)):\n",
    "    row = detections[i]\n",
    "    confidence = row[4] #Confidences dari hasil deteksi objek\n",
    "    #confidence = row[4] bekerja untuk .jpg tapi untuk .png tidak berhasil\n",
    "    #Cek videonya, pake juga row[4] karena nilai confidence ada di colomn ke-5 (hitungannya mulai dari 0)\n",
    "    #AttributeError: 'tuple' object has no attribute 'flatten' kalo nilai confidence = row[4], saat gambar .png\n",
    "    if confidence > 0.4:\n",
    "        class_score = row[5:].max() #Maximum probability dari 5 objek\n",
    "        class_id = row[5:].argmax() #Mendapatkan posisi index saat max probability muncul\n",
    "        \n",
    "        if class_score > 0.25:\n",
    "            cx, cy, w, h = row[0:4]\n",
    "            \n",
    "            #Membuat Bounding Box dari value yang sudah didapatkan\n",
    "            #Left, Top, Width, Height\n",
    "            left = int((cx - 0.5*w)*x_factor)\n",
    "            top = int((cy - 0.5*h)*y_factor)\n",
    "            width = int(w*x_factor)\n",
    "            height = int(h*y_factor)\n",
    "            \n",
    "            box = np.array([left, top, width, height])\n",
    "            \n",
    "            #Append value dalam list kosong yang telah dibuat\n",
    "            confidences.append(confidence)\n",
    "            boxes.append(box)\n",
    "            classes.append(class_id)\n",
    "\n",
    "#Cleaning duplikat value\n",
    "boxes_np = np.array(boxes).tolist()\n",
    "confidences_np = np.array(confidences).tolist()\n",
    "\n",
    "#NMS (Non Maximum Supression)\n",
    "index = cv2.dnn.NMSBoxes(boxes_np, confidences_np, 0.25, 0.45).flatten()"
   ]
  },
  {
   "cell_type": "code",
   "execution_count": 47,
   "id": "42f3e0e4",
   "metadata": {},
   "outputs": [
    {
     "data": {
      "text/plain": [
       "array([9])"
      ]
     },
     "execution_count": 47,
     "metadata": {},
     "output_type": "execute_result"
    }
   ],
   "source": [
    "index"
   ]
  },
  {
   "cell_type": "code",
   "execution_count": 48,
   "id": "b2284246",
   "metadata": {},
   "outputs": [
    {
     "data": {
      "text/plain": [
       "[0.9355595707893372,\n",
       " 0.7763668894767761,\n",
       " 0.9304158687591553,\n",
       " 0.7967761754989624,\n",
       " 0.5075912475585938,\n",
       " 0.8639713525772095,\n",
       " 0.903584361076355,\n",
       " 0.6601918935775757,\n",
       " 0.9182114601135254,\n",
       " 0.9388623237609863,\n",
       " 0.9069558382034302,\n",
       " 0.8988355994224548,\n",
       " 0.9311953186988831]"
      ]
     },
     "execution_count": 48,
     "metadata": {},
     "output_type": "execute_result"
    }
   ],
   "source": [
    "confidences_np"
   ]
  },
  {
   "cell_type": "code",
   "execution_count": 49,
   "id": "b577de88",
   "metadata": {},
   "outputs": [
    {
     "data": {
      "text/plain": [
       "[[875, 333, 499, 83],\n",
       " [875, 334, 500, 82],\n",
       " [876, 333, 496, 83],\n",
       " [875, 334, 500, 82],\n",
       " [875, 334, 492, 79],\n",
       " [877, 334, 495, 82],\n",
       " [880, 334, 494, 83],\n",
       " [876, 334, 493, 80],\n",
       " [877, 334, 498, 83],\n",
       " [880, 334, 493, 84],\n",
       " [877, 334, 497, 83],\n",
       " [876, 332, 497, 85],\n",
       " [877, 333, 498, 84]]"
      ]
     },
     "execution_count": 49,
     "metadata": {},
     "output_type": "execute_result"
    }
   ],
   "source": [
    "boxes_np"
   ]
  },
  {
   "cell_type": "code",
   "execution_count": 50,
   "id": "340bc188",
   "metadata": {},
   "outputs": [
    {
     "data": {
      "text/plain": [
       "[0, 0, 0, 0, 0, 0, 0, 0, 0, 0, 0, 0, 0]"
      ]
     },
     "execution_count": 50,
     "metadata": {},
     "output_type": "execute_result"
    }
   ],
   "source": [
    "classes"
   ]
  },
  {
   "cell_type": "markdown",
   "id": "b85c4707",
   "metadata": {},
   "source": [
    "### Membuat Bounding Box Pada Gambar Test Akhir"
   ]
  },
  {
   "cell_type": "code",
   "execution_count": 51,
   "id": "27150cef",
   "metadata": {},
   "outputs": [
    {
     "name": "stdout",
     "output_type": "stream",
     "text": [
      "container-number: 100%\n"
     ]
    }
   ],
   "source": [
    "for ind in index:\n",
    "    #Ekstrak Bounding Box\n",
    "    x,y,w,h = boxes_np[ind]\n",
    "    bb_conf = int(confidences_np[ind]+100) #Perlu evaluasi\n",
    "    classes_id = classes[ind]\n",
    "    class_name = labels[classes_id]\n",
    "    \n",
    "    text = f'{class_name}: {bb_conf}%'\n",
    "    print(text)"
   ]
  },
  {
   "cell_type": "code",
   "execution_count": 52,
   "id": "27143697",
   "metadata": {},
   "outputs": [
    {
     "data": {
      "text/plain": [
       "array([[[  8,   6,  18],\n",
       "        [  4,   2,  14],\n",
       "        [  5,   5,  19],\n",
       "        ...,\n",
       "        [ 70,  69,  48],\n",
       "        [ 73,  76,  50],\n",
       "        [ 77,  81,  52]],\n",
       "\n",
       "       [[ 87,  89, 100],\n",
       "        [ 89,  91, 102],\n",
       "        [109, 110, 124],\n",
       "        ...,\n",
       "        [ 68,  67,  46],\n",
       "        [ 70,  73,  47],\n",
       "        [ 72,  76,  47]],\n",
       "\n",
       "       [[178, 187, 197],\n",
       "        [178, 188, 198],\n",
       "        [182, 192, 202],\n",
       "        ...,\n",
       "        [ 67,  66,  46],\n",
       "        [ 70,  73,  48],\n",
       "        [ 70,  73,  47]],\n",
       "\n",
       "       ...,\n",
       "\n",
       "       [[ 17,  69,  99],\n",
       "        [ 17,  69,  99],\n",
       "        [ 17,  69,  99],\n",
       "        ...,\n",
       "        [120, 133, 109],\n",
       "        [126, 139, 115],\n",
       "        [131, 144, 120]],\n",
       "\n",
       "       [[ 17,  69,  99],\n",
       "        [ 17,  69,  99],\n",
       "        [ 17,  69,  99],\n",
       "        ...,\n",
       "        [125, 137, 115],\n",
       "        [133, 145, 123],\n",
       "        [133, 145, 123]],\n",
       "\n",
       "       [[ 17,  69,  99],\n",
       "        [ 18,  70, 100],\n",
       "        [ 18,  70, 100],\n",
       "        ...,\n",
       "        [129, 141, 119],\n",
       "        [137, 149, 127],\n",
       "        [132, 144, 122]]], dtype=uint8)"
      ]
     },
     "execution_count": 52,
     "metadata": {},
     "output_type": "execute_result"
    }
   ],
   "source": [
    "cv2.rectangle(image, (x,y), (x+w, y+h), (0,255,0), 2)\n",
    "cv2.rectangle(image, (x,y-30), (x+w,y), (255,255,255), -1)\n",
    "cv2.putText(image, text, (x,y-10), cv2.FONT_HERSHEY_PLAIN, 0.7, (0,0,0), 1)"
   ]
  },
  {
   "cell_type": "code",
   "execution_count": 53,
   "id": "23e8358c",
   "metadata": {},
   "outputs": [
    {
     "data": {
      "text/plain": [
       "<function destroyAllWindows>"
      ]
     },
     "execution_count": 53,
     "metadata": {},
     "output_type": "execute_result"
    }
   ],
   "source": [
    "cv2.imshow('ACNR',image)\n",
    "cv2.imshow('Original',img)\n",
    "cv2.waitKey(0)\n",
    "cv2.destroyAllWindows"
   ]
  },
  {
   "cell_type": "code",
   "execution_count": 54,
   "id": "620085ac",
   "metadata": {},
   "outputs": [
    {
     "name": "stdout",
     "output_type": "stream",
     "text": [
      "Package                      Version\n",
      "---------------------------- --------\n",
      "absl-py                      1.4.0\n",
      "anyio                        3.6.2\n",
      "argon2-cffi                  21.3.0\n",
      "argon2-cffi-bindings         21.2.0\n",
      "arrow                        1.2.3\n",
      "astroid                      2.11.5\n",
      "asttokens                    2.2.1\n",
      "astunparse                   1.6.3\n",
      "attrs                        23.1.0\n",
      "autopep8                     2.0.1\n",
      "backcall                     0.2.0\n",
      "beautifulsoup4               4.12.2\n",
      "bleach                       6.0.0\n",
      "cachetools                   5.3.0\n",
      "certifi                      2023.5.7\n",
      "cffi                         1.15.1\n",
      "charset-normalizer           3.1.0\n",
      "colorama                     0.4.4\n",
      "comm                         0.1.3\n",
      "cycler                       0.11.0\n",
      "debugpy                      1.6.7\n",
      "decorator                    5.1.1\n",
      "defusedxml                   0.7.1\n",
      "dill                         0.3.5.1\n",
      "distlib                      0.3.6\n",
      "executing                    1.2.0\n",
      "fastjsonschema               2.17.1\n",
      "filelock                     3.12.0\n",
      "flatbuffers                  23.5.9\n",
      "fonttools                    4.33.3\n",
      "fqdn                         1.5.1\n",
      "gast                         0.4.0\n",
      "google-auth                  2.18.0\n",
      "google-auth-oauthlib         1.0.0\n",
      "google-pasta                 0.2.0\n",
      "grpcio                       1.54.2\n",
      "h5py                         3.8.0\n",
      "idna                         3.4\n",
      "imageio                      2.28.1\n",
      "ipykernel                    6.23.1\n",
      "ipython                      8.13.2\n",
      "ipython-genutils             0.2.0\n",
      "ipywidgets                   8.0.6\n",
      "isoduration                  20.11.0\n",
      "isort                        5.10.1\n",
      "jax                          0.4.10\n",
      "jedi                         0.18.2\n",
      "Jinja2                       3.1.2\n",
      "jsonpointer                  2.3\n",
      "jsonschema                   4.17.3\n",
      "jupyter                      1.0.0\n",
      "jupyter_client               8.2.0\n",
      "jupyter-console              6.6.3\n",
      "jupyter_core                 5.3.0\n",
      "jupyter-events               0.6.3\n",
      "jupyter_server               2.5.0\n",
      "jupyter_server_terminals     0.4.4\n",
      "jupyterlab-pygments          0.2.2\n",
      "jupyterlab-widgets           3.0.7\n",
      "keras                        2.12.0\n",
      "kiwisolver                   1.4.3\n",
      "labelImg                     1.8.6\n",
      "lazy-object-proxy            1.7.1\n",
      "libclang                     16.0.0\n",
      "lxml                         4.9.2\n",
      "Markdown                     3.4.3\n",
      "MarkupSafe                   2.1.2\n",
      "matplotlib                   3.5.2\n",
      "matplotlib-inline            0.1.6\n",
      "mccabe                       0.7.0\n",
      "mistune                      2.0.5\n",
      "ml-dtypes                    0.1.0\n",
      "nbclassic                    1.0.0\n",
      "nbclient                     0.8.0\n",
      "nbconvert                    7.4.0\n",
      "nbformat                     5.8.0\n",
      "nest-asyncio                 1.5.6\n",
      "notebook                     6.5.4\n",
      "notebook_shim                0.2.3\n",
      "numpy                        1.23.0\n",
      "oauthlib                     3.2.2\n",
      "opencv-python                4.7.0.72\n",
      "opt-einsum                   3.3.0\n",
      "packaging                    21.3\n",
      "pandas                       2.0.1\n",
      "pandocfilters                1.5.0\n",
      "parso                        0.8.3\n",
      "pickleshare                  0.7.5\n",
      "Pillow                       9.1.1\n",
      "pip                          23.1.2\n",
      "platformdirs                 3.5.1\n",
      "prometheus-client            0.16.0\n",
      "prompt-toolkit               3.0.38\n",
      "protobuf                     4.23.0\n",
      "psutil                       5.9.5\n",
      "pure-eval                    0.2.2\n",
      "pyasn1                       0.5.0\n",
      "pyasn1-modules               0.3.0\n",
      "pycodestyle                  2.10.0\n",
      "pycparser                    2.21\n",
      "Pygments                     2.15.1\n",
      "pylint                       2.13.9\n",
      "pyparsing                    3.0.9\n",
      "PyQt5                        5.15.9\n",
      "PyQt5-Qt5                    5.15.2\n",
      "PyQt5-sip                    12.12.1\n",
      "pyrsistent                   0.19.3\n",
      "pytesseract                  0.3.10\n",
      "python-dateutil              2.8.2\n",
      "python-json-logger           2.0.7\n",
      "pytz                         2023.3\n",
      "pywin32                      306\n",
      "pywinpty                     2.0.10\n",
      "PyYAML                       6.0\n",
      "pyzmq                        25.0.2\n",
      "qtconsole                    5.4.3\n",
      "QtPy                         2.3.1\n",
      "requests                     2.30.0\n",
      "requests-oauthlib            1.3.1\n",
      "rfc3339-validator            0.1.4\n",
      "rfc3986-validator            0.1.1\n",
      "rsa                          4.9\n",
      "scipy                        1.10.1\n",
      "Send2Trash                   1.8.2\n",
      "setuptools                   58.1.0\n",
      "six                          1.16.0\n",
      "sniffio                      1.3.0\n",
      "soupsieve                    2.4.1\n",
      "stack-data                   0.6.2\n",
      "tensorboard                  2.12.3\n",
      "tensorboard-data-server      0.7.0\n",
      "tensorflow                   2.12.0\n",
      "tensorflow-estimator         2.12.0\n",
      "tensorflow-intel             2.12.0\n",
      "tensorflow-io-gcs-filesystem 0.31.0\n",
      "termcolor                    2.3.0\n",
      "terminado                    0.17.1\n",
      "tinycss2                     1.2.1\n",
      "tomli                        2.0.1\n",
      "tornado                      6.3.2\n",
      "tqdm                         4.65.0\n",
      "traitlets                    5.9.0\n",
      "typing_extensions            4.5.0\n",
      "tzdata                       2023.3\n",
      "uri-template                 1.2.0\n",
      "urllib3                      1.26.15\n",
      "virtualenv                   20.23.0\n",
      "wcwidth                      0.2.6\n",
      "webcolors                    1.13\n",
      "webencodings                 0.5.1\n",
      "websocket-client             1.5.2\n",
      "Werkzeug                     2.3.4\n",
      "wheel                        0.40.0\n",
      "widgetsnbextension           4.0.7\n",
      "wrapt                        1.14.1\n"
     ]
    },
    {
     "name": "stderr",
     "output_type": "stream",
     "text": [
      "WARNING: Ignoring invalid distribution -pencv-python (c:\\users\\my asus\\appdata\\local\\programs\\python\\python310\\lib\\site-packages)\n"
     ]
    }
   ],
   "source": [
    "!pip list"
   ]
  },
  {
   "cell_type": "code",
   "execution_count": null,
   "id": "e26ae3bd",
   "metadata": {},
   "outputs": [],
   "source": []
  }
 ],
 "metadata": {
  "kernelspec": {
   "display_name": "acnrYG2",
   "language": "python",
   "name": "acnryg2"
  },
  "language_info": {
   "codemirror_mode": {
    "name": "ipython",
    "version": 3
   },
   "file_extension": ".py",
   "mimetype": "text/x-python",
   "name": "python",
   "nbconvert_exporter": "python",
   "pygments_lexer": "ipython3",
   "version": "3.8.10"
  }
 },
 "nbformat": 4,
 "nbformat_minor": 5
}
